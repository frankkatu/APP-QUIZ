{
  "nbformat": 4,
  "nbformat_minor": 0,
  "metadata": {
    "colab": {
      "provenance": [],
      "authorship_tag": "ABX9TyOdjgxMeH7jm8kRn6thXyQl",
      "include_colab_link": true
    },
    "kernelspec": {
      "name": "python3",
      "display_name": "Python 3"
    },
    "language_info": {
      "name": "python"
    }
  },
  "cells": [
    {
      "cell_type": "markdown",
      "metadata": {
        "id": "view-in-github",
        "colab_type": "text"
      },
      "source": [
        "<a href=\"https://colab.research.google.com/github/frankkatu/APP-QUIZ/blob/main/Python_strings.ipynb\" target=\"_parent\"><img src=\"https://colab.research.google.com/assets/colab-badge.svg\" alt=\"Open In Colab\"/></a>"
      ]
    },
    {
      "cell_type": "markdown",
      "source": [
        "#                         **   TASK 1**\n",
        "Write a Python program that takes a String as an input from the user and prints that String in\n",
        "reverse order."
      ],
      "metadata": {
        "id": "BjUH5Q-7PE3I"
      }
    },
    {
      "cell_type": "code",
      "source": [
        "#Reversing a string\n",
        "text = \"Frank\"\n",
        "reversed_text = \"\"\n",
        "for char in text:\n",
        "  reversed_text = char + reversed_text\n",
        "print(reversed_text)"
      ],
      "metadata": {
        "colab": {
          "base_uri": "https://localhost:8080/"
        },
        "id": "1ZxkWKgGPWx8",
        "outputId": "10f71d98-1f34-4861-97ca-b1b72abff7c0"
      },
      "execution_count": null,
      "outputs": [
        {
          "output_type": "stream",
          "name": "stdout",
          "text": [
            "knarF\n"
          ]
        }
      ]
    },
    {
      "cell_type": "code",
      "source": [
        "#Reversing a string\n",
        "text = \"Python\"\n",
        "reversed_text2 = text[::-1]\n",
        "print((reversed_text2))"
      ],
      "metadata": {
        "colab": {
          "base_uri": "https://localhost:8080/"
        },
        "id": "APvmCw-7RHft",
        "outputId": "c75feae8-4855-401b-b568-6b0ea0a76b56"
      },
      "execution_count": null,
      "outputs": [
        {
          "output_type": "stream",
          "name": "stdout",
          "text": [
            "nohtyP\n"
          ]
        }
      ]
    },
    {
      "cell_type": "markdown",
      "source": [
        "#                   ***Task 2***\n",
        "Write a python program that takes 2 inputs from the user, where the first input is a string with\n",
        "length greater than 1. The second input is the index of the first given string from where you have\n",
        "to start reversing. After reversing the first input string from that index, print the new string back\n",
        "to the user. See samples below for clarification."
      ],
      "metadata": {
        "id": "zKj8g44WQvOB"
      }
    },
    {
      "cell_type": "code",
      "source": [
        "#Reversing part of the string\n",
        "for i in range(1):\n",
        "  str1 = input(\"Enter the first string: \")\n",
        "  index = int(input(\"Enter the index: \"))\n",
        "if len(str1) > 1 & index <= len(str1):\n",
        "  reversed_text3 = str1[index::-1]\n",
        "  remaining_text = str1[index + 1:]\n",
        "  result = reversed_text3 + remaining_text\n",
        "print(result)"
      ],
      "metadata": {
        "colab": {
          "base_uri": "https://localhost:8080/"
        },
        "id": "W0oSssvDRDPE",
        "outputId": "ba1bbb11-877b-482c-9514-9789bbe26f3c"
      },
      "execution_count": null,
      "outputs": [
        {
          "output_type": "stream",
          "name": "stdout",
          "text": [
            "Enter the first string: Frank\n",
            "Enter the index: 2\n",
            "arFnk\n"
          ]
        }
      ]
    },
    {
      "cell_type": "markdown",
      "source": [
        "#            **Task 3**\n",
        "Write a program that takes a string as input and prints “Binary Number” if the string contains\n",
        "only 0s or 1s. Otherwise, print “Not a Binary Number”."
      ],
      "metadata": {
        "id": "_5TUy7KyRV9a"
      }
    },
    {
      "cell_type": "code",
      "source": [
        "string = input(\"Enter any string: \")\n",
        "is_binary = True\n",
        "for char in string:\n",
        "  if char != '1' and char != '0':\n",
        "    is_binary = False\n",
        "    break\n",
        "if is_binary == True:\n",
        "  print(\"Binary Number\")\n",
        "else:\n",
        "  print(\"Not a Binary Number\")\n"
      ],
      "metadata": {
        "id": "uPb6v8ysRbOO",
        "colab": {
          "base_uri": "https://localhost:8080/"
        },
        "outputId": "ced1de85-bfeb-4665-9d21-8b416007b22d"
      },
      "execution_count": 14,
      "outputs": [
        {
          "output_type": "stream",
          "name": "stdout",
          "text": [
            "Enter any string: 110000a100\n",
            "Not a Binary Number\n"
          ]
        }
      ]
    },
    {
      "cell_type": "markdown",
      "source": [
        "# TASK 4\n",
        "Write a Python program that will ask the user to enter a word as an input.  \n",
        "● If the length of the input string is less than 4, then your program should print the same\n",
        "string as an output.  \n",
        "● If the input string’s length is greater than 3, then your program should add \"er\" at the end\n",
        "of the input string.  \n",
        "● If the input string already ends with \"er\", then add \"est\" instead, regardless of the length\n",
        "of the input string\n",
        "● If the input string already ends with \"est\", then your program should print the same input\n",
        "string as an output."
      ],
      "metadata": {
        "id": "1EwmRZTpZypW"
      }
    },
    {
      "cell_type": "code",
      "source": [
        "str1 = input(\"Enter any string: \")\n",
        "if str1.endswith(\"est\"):\n",
        "  result = str1\n",
        "elif str1.endswith(\"er\"):\n",
        "  result = str1[:-2] + \"est\"\n",
        "elif len(str1) < 4:\n",
        "  result = str1\n",
        "else:\n",
        "  result = str1 + \"er\"\n",
        "print(result)"
      ],
      "metadata": {
        "colab": {
          "base_uri": "https://localhost:8080/"
        },
        "id": "j2tapg00aLAR",
        "outputId": "33b6adeb-155a-4b86-c225-fda1929de5e6"
      },
      "execution_count": 6,
      "outputs": [
        {
          "output_type": "stream",
          "name": "stdout",
          "text": [
            "Enter any string: ber\n",
            "best\n"
          ]
        }
      ]
    },
    {
      "cell_type": "markdown",
      "source": [
        "# Task 5\n",
        "Write a Python program that will ask the user to input a string (containing exactly one word).\n",
        "Then your program should print subsequent substrings of the given string as shown in the\n",
        "examples below.\n"
      ],
      "metadata": {
        "id": "gh6Snp9n5SZN"
      }
    },
    {
      "cell_type": "code",
      "source": [
        "word = input(\"Enter one word: \")\n",
        "sub_word = \" \"\n",
        "for char in word:\n",
        "  sub_word += char\n",
        "  print(sub_word)"
      ],
      "metadata": {
        "colab": {
          "base_uri": "https://localhost:8080/"
        },
        "id": "Irsm9ysV5Xe9",
        "outputId": "bc9a2864-d22b-4e8f-c72a-33ce679afa60"
      },
      "execution_count": 10,
      "outputs": [
        {
          "output_type": "stream",
          "name": "stdout",
          "text": [
            "Enter one word: BANGLA \n",
            " B\n",
            " BA\n",
            " BAN\n",
            " BANG\n",
            " BANGL\n",
            " BANGLA\n",
            " BANGLA \n"
          ]
        }
      ]
    },
    {
      "cell_type": "markdown",
      "source": [
        "# Task 6\n",
        "Write a Python program that will ask the user to input a string (containing exactly one word).\n",
        "Then print the ASCII code for each character in the String using the ord() function.  "
      ],
      "metadata": {
        "id": "PsKvjEHJ8jpi"
      }
    },
    {
      "cell_type": "code",
      "source": [
        "# print(ord('A'))\n",
        "word = input(\"Enter a word: \")\n",
        "for char in word:\n",
        "  result = ord(char)\n",
        "  print(char , result)\n"
      ],
      "metadata": {
        "colab": {
          "base_uri": "https://localhost:8080/"
        },
        "id": "SSrrW8Vn9WY-",
        "outputId": "ea8355d2-a948-465f-c059-8daa772ab86a"
      },
      "execution_count": 14,
      "outputs": [
        {
          "output_type": "stream",
          "name": "stdout",
          "text": [
            "Enter a word: Programming \n",
            "P 80\n",
            "r 114\n",
            "o 111\n",
            "g 103\n",
            "r 114\n",
            "a 97\n",
            "m 109\n",
            "m 109\n",
            "i 105\n",
            "n 110\n",
            "g 103\n",
            "  32\n"
          ]
        }
      ]
    }
  ]
}